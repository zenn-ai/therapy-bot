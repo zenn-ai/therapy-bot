{
 "cells": [
  {
   "cell_type": "code",
   "execution_count": 1,
   "id": "a79f204d-09c2-4a0f-9b2c-592ea935defc",
   "metadata": {},
   "outputs": [
    {
     "data": {
      "application/vnd.jupyter.widget-view+json": {
       "model_id": "a7ea0680d03a455ca6ed5dc651674c4d",
       "version_major": 2,
       "version_minor": 0
      },
      "text/plain": [
       "VBox(children=(HTML(value='<center> <img\\nsrc=https://huggingface.co/front/assets/huggingface_logo-noborder.sv…"
      ]
     },
     "metadata": {},
     "output_type": "display_data"
    }
   ],
   "source": [
    "from huggingface_hub import notebook_login\n",
    " \n",
    "notebook_login()"
   ]
  },
  {
   "cell_type": "code",
   "execution_count": 1,
   "id": "c878b53b-3a97-48d2-a505-8e6c1a03cadc",
   "metadata": {},
   "outputs": [
    {
     "name": "stdout",
     "output_type": "stream",
     "text": [
      "[2023-11-30 13:02:52,233] [INFO] [real_accelerator.py:158:get_accelerator] Setting ds_accelerator to cuda (auto detect)\n"
     ]
    }
   ],
   "source": [
    "import json\n",
    "import os\n",
    "import warnings\n",
    "\n",
    "import torch\n",
    "from transformers import (\n",
    "    AutoTokenizer,\n",
    "    AutoModelForCausalLM,\n",
    ")\n",
    "from peft import PeftConfig, PeftModel\n",
    "\n",
    "from fastchat.utils import get_gpu_memory, is_partial_stop, is_sentence_complete, get_context_length\n",
    "from fastchat.conversation import get_conv_template, register_conv_template, Conversation, SeparatorStyle\n",
    "from fastchat.serve.inference import generate_stream\n",
    "\n",
    "warnings.filterwarnings('ignore')"
   ]
  },
  {
   "cell_type": "code",
   "execution_count": 5,
   "id": "56c248f6-c2cb-4eaf-8cf1-96f9f65026ef",
   "metadata": {},
   "outputs": [],
   "source": [
    "SYSTEM_MSG = \"\"\"Your name is Zen and you're a mental health counselor. Please have a conversation with your patient and provide them with a helpful response to their concerns.\"\"\"\n",
    "\n",
    "try:\n",
    "    register_conv_template(\n",
    "        Conversation(\n",
    "            name=\"Zen\",\n",
    "            system_message=SYSTEM_MSG,\n",
    "            roles=(\"USER\", \"ASSISTANT\"),\n",
    "            sep_style=SeparatorStyle.ADD_COLON_TWO,\n",
    "            sep=\" \",\n",
    "            sep2=\"</s>\",\n",
    "        )\n",
    "    )\n",
    "except AssertionError:\n",
    "    pass"
   ]
  },
  {
   "cell_type": "code",
   "execution_count": 3,
   "id": "6bf19468-db94-482a-89cc-9708b21b9a08",
   "metadata": {},
   "outputs": [],
   "source": [
    "def load_model(model_path, num_gpus, base_model_path=None, max_gpu_memory=None):\n",
    "    \n",
    "    kwargs = {\"torch_dtype\": torch.float16}\n",
    "    if num_gpus != 1:\n",
    "        kwargs[\"device_map\"] = \"auto\"\n",
    "        if max_gpu_memory is None:\n",
    "            kwargs[\n",
    "                \"device_map\"\n",
    "            ] = \"sequential\"  # This is important for not the same VRAM sizes\n",
    "            available_gpu_memory = get_gpu_memory(num_gpus)\n",
    "            kwargs[\"max_memory\"] = {\n",
    "                i: str(int(available_gpu_memory[i] * 0.85)) + \"GiB\"\n",
    "                for i in range(num_gpus)\n",
    "            }\n",
    "        else:\n",
    "            kwargs[\"max_memory\"] = {i: max_gpu_memory for i in range(num_gpus)}\n",
    "        \n",
    "        if base_model_path is None:\n",
    "            config = PeftConfig.from_pretrained(model_path)\n",
    "            base_model_path = config.base_model_name_or_path\n",
    "            \n",
    "        tokenizer = AutoTokenizer.from_pretrained(\n",
    "            base_model_path, use_fast=False\n",
    "        )\n",
    "        model = AutoModelForCausalLM.from_pretrained(\n",
    "            base_model_path,\n",
    "            low_cpu_mem_usage=True,\n",
    "            **kwargs,\n",
    "        )\n",
    "        if base_model_path is None:\n",
    "            model = PeftModel.from_pretrained(model, model_path)\n",
    "        \n",
    "        return model, tokenizer"
   ]
  },
  {
   "cell_type": "code",
   "execution_count": 4,
   "id": "71b875ed-1f43-4aa5-a095-1aa47f41c342",
   "metadata": {},
   "outputs": [
    {
     "data": {
      "text/html": [
       "<div>\n",
       "<style scoped>\n",
       "    .dataframe tbody tr th:only-of-type {\n",
       "        vertical-align: middle;\n",
       "    }\n",
       "\n",
       "    .dataframe tbody tr th {\n",
       "        vertical-align: top;\n",
       "    }\n",
       "\n",
       "    .dataframe thead th {\n",
       "        text-align: right;\n",
       "    }\n",
       "</style>\n",
       "<table border=\"1\" class=\"dataframe\">\n",
       "  <thead>\n",
       "    <tr style=\"text-align: right;\">\n",
       "      <th></th>\n",
       "      <th>orig_prompt</th>\n",
       "      <th>answer</th>\n",
       "      <th>Zen</th>\n",
       "      <th>llama-2</th>\n",
       "      <th>vicuna_v1.1</th>\n",
       "    </tr>\n",
       "  </thead>\n",
       "  <tbody>\n",
       "    <tr>\n",
       "      <th>0</th>\n",
       "      <td>Your name is Zen and you're a mental health co...</td>\n",
       "      <td>It's common to experience low self-esteem at t...</td>\n",
       "      <td>I'm sorry to hear that you're struggling with ...</td>\n",
       "      <td>&lt;&lt;/SYS&gt;&gt;\\n\\nI understand how you feel. It's im...</td>\n",
       "      <td>I'm sorry to hear that you're struggling with ...</td>\n",
       "    </tr>\n",
       "    <tr>\n",
       "      <th>1</th>\n",
       "      <td>Your name is Zen and you're a mental health co...</td>\n",
       "      <td>You too! If you have any concerns or questions...</td>\n",
       "      <td>You too!</td>\n",
       "      <td>[IST]\\n&lt;b&gt;My name is&lt;/b&gt;\\n^i6\\n\\n[/IST]\\n[INST...</td>\n",
       "      <td>Thank you, have a nice day as well! Is there a...</td>\n",
       "    </tr>\n",
       "    <tr>\n",
       "      <th>2</th>\n",
       "      <td>Your name is Zen and you're a mental health co...</td>\n",
       "      <td>It's understandable that you may have difficul...</td>\n",
       "      <td>Thank you for sharing that with me. It takes a...</td>\n",
       "      <td>&lt;&lt;/SYS&gt;&gt;\\n\\nYou're right not to trust people. ...</td>\n",
       "      <td>I understand that it can be difficult to trust...</td>\n",
       "    </tr>\n",
       "    <tr>\n",
       "      <th>3</th>\n",
       "      <td>Your name is Zen and you're a mental health co...</td>\n",
       "      <td>Maintaining a healthy work-life balance is imp...</td>\n",
       "      <td>I see how that can be challenging, and it's im...</td>\n",
       "      <td>&lt;&lt;/SYS&gt;&gt;\\n\\n**Zen** I understand that you're f...</td>\n",
       "      <td>I understand how you feel. It can be challengi...</td>\n",
       "    </tr>\n",
       "    <tr>\n",
       "      <th>4</th>\n",
       "      <td>Your name is Zen and you're a mental health co...</td>\n",
       "      <td>It's important to communicate openly and hones...</td>\n",
       "      <td>Thank you for reaching out. It's important to ...</td>\n",
       "      <td>&lt;&lt;S&gt;&gt; I'm sorry to hear that. What kind of arg...</td>\n",
       "      <td>I'm sorry to hear that you're having trouble w...</td>\n",
       "    </tr>\n",
       "  </tbody>\n",
       "</table>\n",
       "</div>"
      ],
      "text/plain": [
       "                                         orig_prompt  \\\n",
       "0  Your name is Zen and you're a mental health co...   \n",
       "1  Your name is Zen and you're a mental health co...   \n",
       "2  Your name is Zen and you're a mental health co...   \n",
       "3  Your name is Zen and you're a mental health co...   \n",
       "4  Your name is Zen and you're a mental health co...   \n",
       "\n",
       "                                              answer  \\\n",
       "0  It's common to experience low self-esteem at t...   \n",
       "1  You too! If you have any concerns or questions...   \n",
       "2  It's understandable that you may have difficul...   \n",
       "3  Maintaining a healthy work-life balance is imp...   \n",
       "4  It's important to communicate openly and hones...   \n",
       "\n",
       "                                                 Zen  \\\n",
       "0  I'm sorry to hear that you're struggling with ...   \n",
       "1                                           You too!   \n",
       "2  Thank you for sharing that with me. It takes a...   \n",
       "3  I see how that can be challenging, and it's im...   \n",
       "4  Thank you for reaching out. It's important to ...   \n",
       "\n",
       "                                             llama-2  \\\n",
       "0  <</SYS>>\\n\\nI understand how you feel. It's im...   \n",
       "1  [IST]\\n<b>My name is</b>\\n^i6\\n\\n[/IST]\\n[INST...   \n",
       "2  <</SYS>>\\n\\nYou're right not to trust people. ...   \n",
       "3  <</SYS>>\\n\\n**Zen** I understand that you're f...   \n",
       "4  <<S>> I'm sorry to hear that. What kind of arg...   \n",
       "\n",
       "                                         vicuna_v1.1  \n",
       "0  I'm sorry to hear that you're struggling with ...  \n",
       "1  Thank you, have a nice day as well! Is there a...  \n",
       "2  I understand that it can be difficult to trust...  \n",
       "3  I understand how you feel. It can be challengi...  \n",
       "4  I'm sorry to hear that you're having trouble w...  "
      ]
     },
     "execution_count": 4,
     "metadata": {},
     "output_type": "execute_result"
    }
   ],
   "source": [
    "import os\n",
    "import pandas as pd\n",
    "import pickle\n",
    "import re\n",
    "\n",
    "from tqdm.notebook import tqdm\n",
    "\n",
    "DATA_DIR = \"../data/\"\n",
    "\n",
    "df_path = os.path.join(DATA_DIR, \"llm_responses.csv\")\n",
    "if os.path.exists(df_path):\n",
    "    df = pd.read_csv(df_path)\n",
    "else:\n",
    "    with open(os.path.join(DATA_DIR, \"test.p\"), \"rb\") as f:\n",
    "        test = pickle.load(f)\n",
    "\n",
    "    df = pd.DataFrame(columns=[\"orig_prompt\"], data=test)\n",
    "    df[\"answer\"] = df.orig_prompt.apply(lambda x: re.findall(r'ASSISTANT: (.*?)</s>', x, re.DOTALL)[-1].strip())\n",
    "    df.to_csv(df_path, index=False)\n",
    "    \n",
    "df.head()"
   ]
  },
  {
   "cell_type": "code",
   "execution_count": 5,
   "id": "f408f92a-f376-4e16-a594-f1b817b2aff7",
   "metadata": {},
   "outputs": [],
   "source": [
    "def get_conv(text, conv_template):\n",
    "    conv = get_conv_template(conv_template)\n",
    "    conv.messages = []\n",
    "    conv.set_system_message(SYSTEM_MSG)\n",
    "    \n",
    "    q = re.findall(r'USER: (.*?) ASSISTANT:', text, re.DOTALL)\n",
    "    a = re.findall(r'ASSISTANT: (.*?)</s>', text, re.DOTALL)\n",
    "    assert len(q) == len(a)\n",
    "    \n",
    "    # conv.append_message(conv.roles[0], \"Hello! I'm Manish!\")\n",
    "    # conv.append_message(conv.roles[1], \"Hello Manish! How can I help you today?\")\n",
    "    \n",
    "    for i in range(len(q)):\n",
    "        conv.append_message(conv.roles[0], q[i].strip())\n",
    "        \n",
    "        if i == len(q) - 1:\n",
    "            conv.append_message(conv.roles[1], None)\n",
    "        else:\n",
    "            conv.append_message(conv.roles[1], a[i].strip())\n",
    "    \n",
    "    return conv"
   ]
  },
  {
   "cell_type": "code",
   "execution_count": 6,
   "id": "26337b58-5fa1-4bb7-9ff0-2eb45e4ce9f5",
   "metadata": {},
   "outputs": [],
   "source": [
    "def ask_question(\n",
    "    model, tokenizer, question,\n",
    "    device, num_gpus, max_gpu_memory,\n",
    "    conv_template,\n",
    "    temperature, repetition_penalty, max_new_tokens,\n",
    "    dtype=torch.float16,\n",
    "    judge_sent_end=True\n",
    "):\n",
    "    context_len = get_context_length(model.config)\n",
    "    \n",
    "    def get_output(output_stream):\n",
    "        pre = 0\n",
    "        for outputs in output_stream:\n",
    "            output_text = outputs[\"text\"]\n",
    "            output_text = output_text.strip().split(\" \")\n",
    "            now = len(output_text) - 1\n",
    "            if now > pre:\n",
    "                pre = now\n",
    "        return \" \".join(output_text)\n",
    "    \n",
    "    conv = get_conv(question, conv_template)\n",
    "    prompt = conv.get_prompt()\n",
    "\n",
    "    gen_params = {\n",
    "        \"prompt\": prompt,\n",
    "        \"temperature\": temperature,\n",
    "        \"repetition_penalty\": repetition_penalty,\n",
    "        \"max_new_tokens\": max_new_tokens,\n",
    "        \"stop\": conv.stop_str,\n",
    "        \"stop_token_ids\": conv.stop_token_ids,\n",
    "        \"echo\": False,\n",
    "    }\n",
    "\n",
    "    output_stream = generate_stream(\n",
    "        model,\n",
    "        tokenizer,\n",
    "        gen_params,\n",
    "        device,\n",
    "        context_len=context_len,\n",
    "        judge_sent_end=judge_sent_end,\n",
    "    )\n",
    "    return get_output(output_stream)"
   ]
  },
  {
   "cell_type": "code",
   "execution_count": 19,
   "id": "e181f081-add0-4c0f-9dec-cada34536bd5",
   "metadata": {},
   "outputs": [
    {
     "data": {
      "application/vnd.jupyter.widget-view+json": {
       "model_id": "e21424802ab1490381f4cbbe5d8aa00d",
       "version_major": 2,
       "version_minor": 0
      },
      "text/plain": [
       "tokenizer_config.json:   0%|          | 0.00/776 [00:00<?, ?B/s]"
      ]
     },
     "metadata": {},
     "output_type": "display_data"
    },
    {
     "data": {
      "application/vnd.jupyter.widget-view+json": {
       "model_id": "5949be060b544b91889e884b9b894606",
       "version_major": 2,
       "version_minor": 0
      },
      "text/plain": [
       "tokenizer.model:   0%|          | 0.00/500k [00:00<?, ?B/s]"
      ]
     },
     "metadata": {},
     "output_type": "display_data"
    },
    {
     "data": {
      "application/vnd.jupyter.widget-view+json": {
       "model_id": "199f1532037d4fd1a7f73ab2b5a4acff",
       "version_major": 2,
       "version_minor": 0
      },
      "text/plain": [
       "special_tokens_map.json:   0%|          | 0.00/414 [00:00<?, ?B/s]"
      ]
     },
     "metadata": {},
     "output_type": "display_data"
    },
    {
     "data": {
      "application/vnd.jupyter.widget-view+json": {
       "model_id": "3f3ba7def8344f0db151919ff464f896",
       "version_major": 2,
       "version_minor": 0
      },
      "text/plain": [
       "config.json:   0%|          | 0.00/610 [00:00<?, ?B/s]"
      ]
     },
     "metadata": {},
     "output_type": "display_data"
    },
    {
     "data": {
      "application/vnd.jupyter.widget-view+json": {
       "model_id": "2b45537609454cf1986ae0b2b6676927",
       "version_major": 2,
       "version_minor": 0
      },
      "text/plain": [
       "model.safetensors.index.json:   0%|          | 0.00/33.4k [00:00<?, ?B/s]"
      ]
     },
     "metadata": {},
     "output_type": "display_data"
    },
    {
     "data": {
      "application/vnd.jupyter.widget-view+json": {
       "model_id": "403408567c8144a4a3c8296812c1c84b",
       "version_major": 2,
       "version_minor": 0
      },
      "text/plain": [
       "Downloading shards:   0%|          | 0/3 [00:00<?, ?it/s]"
      ]
     },
     "metadata": {},
     "output_type": "display_data"
    },
    {
     "data": {
      "application/vnd.jupyter.widget-view+json": {
       "model_id": "327b8e1cecdb41ca890781555feada81",
       "version_major": 2,
       "version_minor": 0
      },
      "text/plain": [
       "model-00001-of-00003.safetensors:   0%|          | 0.00/9.95G [00:00<?, ?B/s]"
      ]
     },
     "metadata": {},
     "output_type": "display_data"
    },
    {
     "data": {
      "application/vnd.jupyter.widget-view+json": {
       "model_id": "4de1c67cceb74036ab853a223a7f2fff",
       "version_major": 2,
       "version_minor": 0
      },
      "text/plain": [
       "model-00002-of-00003.safetensors:   0%|          | 0.00/9.90G [00:00<?, ?B/s]"
      ]
     },
     "metadata": {},
     "output_type": "display_data"
    },
    {
     "data": {
      "application/vnd.jupyter.widget-view+json": {
       "model_id": "ba21ca180b9246aa998e7465e44745f0",
       "version_major": 2,
       "version_minor": 0
      },
      "text/plain": [
       "model-00003-of-00003.safetensors:   0%|          | 0.00/6.18G [00:00<?, ?B/s]"
      ]
     },
     "metadata": {},
     "output_type": "display_data"
    },
    {
     "data": {
      "application/vnd.jupyter.widget-view+json": {
       "model_id": "5f9d37e309924bdeb246d426f352e320",
       "version_major": 2,
       "version_minor": 0
      },
      "text/plain": [
       "Loading checkpoint shards:   0%|          | 0/3 [00:00<?, ?it/s]"
      ]
     },
     "metadata": {},
     "output_type": "display_data"
    },
    {
     "data": {
      "application/vnd.jupyter.widget-view+json": {
       "model_id": "78bbabc2f49c4c16b8088bec7e089924",
       "version_major": 2,
       "version_minor": 0
      },
      "text/plain": [
       "generation_config.json:   0%|          | 0.00/188 [00:00<?, ?B/s]"
      ]
     },
     "metadata": {},
     "output_type": "display_data"
    },
    {
     "data": {
      "application/vnd.jupyter.widget-view+json": {
       "model_id": "add43e3b193b4d82b3c2cc3bd11cdf94",
       "version_major": 2,
       "version_minor": 0
      },
      "text/plain": [
       "  0%|          | 0/1000 [00:00<?, ?it/s]"
      ]
     },
     "metadata": {},
     "output_type": "display_data"
    },
    {
     "data": {
      "application/vnd.jupyter.widget-view+json": {
       "model_id": "9536812578e24c81884ab08f4bcfa4d0",
       "version_major": 2,
       "version_minor": 0
      },
      "text/plain": [
       "Loading checkpoint shards:   0%|          | 0/3 [00:00<?, ?it/s]"
      ]
     },
     "metadata": {},
     "output_type": "display_data"
    },
    {
     "data": {
      "application/vnd.jupyter.widget-view+json": {
       "model_id": "80f623dac14d4c468a10534ed0eb318a",
       "version_major": 2,
       "version_minor": 0
      },
      "text/plain": [
       "  0%|          | 0/1000 [00:00<?, ?it/s]"
      ]
     },
     "metadata": {},
     "output_type": "display_data"
    },
    {
     "name": "stderr",
     "output_type": "stream",
     "text": [
      "IOPub message rate exceeded.\n",
      "The Jupyter server will temporarily stop sending output\n",
      "to the client in order to avoid crashing it.\n",
      "To change this limit, set the config variable\n",
      "`--ServerApp.iopub_msg_rate_limit`.\n",
      "\n",
      "Current values:\n",
      "ServerApp.iopub_msg_rate_limit=1000.0 (msgs/sec)\n",
      "ServerApp.rate_limit_window=3.0 (secs)\n",
      "\n"
     ]
    }
   ],
   "source": [
    "model_name = \"llama-2\" # \"llama-2\", \"vicuna_v1.1\", \"Zen\"\n",
    "num_gpus = 4\n",
    "max_gpu_memory = \"12GiB\"\n",
    "\n",
    "if model_name == \"llama-2\":\n",
    "    model, tokenizer = load_model(model_path=None, num_gpus=num_gpus, base_model_path=\"meta-llama/Llama-2-13b-hf\", max_gpu_memory=max_gpu_memory)\n",
    "elif model_name == \"vicuna_v1.1\":\n",
    "    model, tokenizer = load_model(model_path=None, num_gpus=num_gpus, base_model_path=\"lmsys/vicuna-13b-v1.5\", max_gpu_memory=max_gpu_memory)\n",
    "else:\n",
    "    model_path = \"/home/jupyter/therapy-bot/models/Zen\"\n",
    "    model, tokenizer = load_model(model_path=model_path, num_gpus=num_gpus, max_gpu_memory=max_gpu_memory)\n",
    "\n",
    "for i in tqdm(range(len(df))):\n",
    "    question = df.orig_prompt[i]\n",
    "    answer = ask_question(\n",
    "        model, tokenizer, question,\n",
    "        device=\"cuda\", num_gpus=4, max_gpu_memory=\"12GiB\",\n",
    "        conv_template=model_name, temperature=0.7,\n",
    "        repetition_penalty=1.0, max_new_tokens=128\n",
    "    )\n",
    "    df.loc[i, model_name] = answer\n",
    "    \n",
    "    if (i + 1) % 10 == 0:\n",
    "        df.to_csv(df_path, index=False)\n",
    "\n",
    "df.to_csv(df_path, index=False)"
   ]
  },
  {
   "cell_type": "code",
   "execution_count": 2,
   "id": "80824e4d-92a9-43c1-9039-f2397a061bc4",
   "metadata": {},
   "outputs": [
    {
     "data": {
      "text/html": [
       "<div>\n",
       "<style scoped>\n",
       "    .dataframe tbody tr th:only-of-type {\n",
       "        vertical-align: middle;\n",
       "    }\n",
       "\n",
       "    .dataframe tbody tr th {\n",
       "        vertical-align: top;\n",
       "    }\n",
       "\n",
       "    .dataframe thead th {\n",
       "        text-align: right;\n",
       "    }\n",
       "</style>\n",
       "<table border=\"1\" class=\"dataframe\">\n",
       "  <thead>\n",
       "    <tr style=\"text-align: right;\">\n",
       "      <th></th>\n",
       "      <th>orig_prompt</th>\n",
       "      <th>answer</th>\n",
       "      <th>Zen</th>\n",
       "      <th>llama-2</th>\n",
       "      <th>vicuna_v1.1</th>\n",
       "      <th>Zen2</th>\n",
       "    </tr>\n",
       "  </thead>\n",
       "  <tbody>\n",
       "    <tr>\n",
       "      <th>0</th>\n",
       "      <td>Your name is Zen and you're a mental health co...</td>\n",
       "      <td>It's common to experience low self-esteem at t...</td>\n",
       "      <td>I'm sorry to hear that you're struggling with ...</td>\n",
       "      <td>&lt;&lt;/SYS&gt;&gt;\\n\\nI understand how you feel. It's im...</td>\n",
       "      <td>I'm sorry to hear that you're struggling with ...</td>\n",
       "      <td>Hi there, it's great that you're taking the fi...</td>\n",
       "    </tr>\n",
       "    <tr>\n",
       "      <th>1</th>\n",
       "      <td>Your name is Zen and you're a mental health co...</td>\n",
       "      <td>You too! If you have any concerns or questions...</td>\n",
       "      <td>You too!</td>\n",
       "      <td>[IST]\\n&lt;b&gt;My name is&lt;/b&gt;\\n^i6\\n\\n[/IST]\\n[INST...</td>\n",
       "      <td>Thank you, have a nice day as well! Is there a...</td>\n",
       "      <td>Thank you, you too!</td>\n",
       "    </tr>\n",
       "    <tr>\n",
       "      <th>2</th>\n",
       "      <td>Your name is Zen and you're a mental health co...</td>\n",
       "      <td>It's understandable that you may have difficul...</td>\n",
       "      <td>Thank you for sharing that with me. It takes a...</td>\n",
       "      <td>&lt;&lt;/SYS&gt;&gt;\\n\\nYou're right not to trust people. ...</td>\n",
       "      <td>I understand that it can be difficult to trust...</td>\n",
       "      <td>I understand that it can be difficult to open ...</td>\n",
       "    </tr>\n",
       "    <tr>\n",
       "      <th>3</th>\n",
       "      <td>Your name is Zen and you're a mental health co...</td>\n",
       "      <td>Maintaining a healthy work-life balance is imp...</td>\n",
       "      <td>I see how that can be challenging, and it's im...</td>\n",
       "      <td>&lt;&lt;/SYS&gt;&gt;\\n\\n**Zen** I understand that you're f...</td>\n",
       "      <td>I understand how you feel. It can be challengi...</td>\n",
       "      <td>Hey there! I totally understand how you feel, ...</td>\n",
       "    </tr>\n",
       "    <tr>\n",
       "      <th>4</th>\n",
       "      <td>Your name is Zen and you're a mental health co...</td>\n",
       "      <td>It's important to communicate openly and hones...</td>\n",
       "      <td>Thank you for reaching out. It's important to ...</td>\n",
       "      <td>&lt;&lt;S&gt;&gt; I'm sorry to hear that. What kind of arg...</td>\n",
       "      <td>I'm sorry to hear that you're having trouble w...</td>\n",
       "      <td>I'm sorry to hear that you're having trouble w...</td>\n",
       "    </tr>\n",
       "  </tbody>\n",
       "</table>\n",
       "</div>"
      ],
      "text/plain": [
       "                                         orig_prompt  \\\n",
       "0  Your name is Zen and you're a mental health co...   \n",
       "1  Your name is Zen and you're a mental health co...   \n",
       "2  Your name is Zen and you're a mental health co...   \n",
       "3  Your name is Zen and you're a mental health co...   \n",
       "4  Your name is Zen and you're a mental health co...   \n",
       "\n",
       "                                              answer  \\\n",
       "0  It's common to experience low self-esteem at t...   \n",
       "1  You too! If you have any concerns or questions...   \n",
       "2  It's understandable that you may have difficul...   \n",
       "3  Maintaining a healthy work-life balance is imp...   \n",
       "4  It's important to communicate openly and hones...   \n",
       "\n",
       "                                                 Zen  \\\n",
       "0  I'm sorry to hear that you're struggling with ...   \n",
       "1                                           You too!   \n",
       "2  Thank you for sharing that with me. It takes a...   \n",
       "3  I see how that can be challenging, and it's im...   \n",
       "4  Thank you for reaching out. It's important to ...   \n",
       "\n",
       "                                             llama-2  \\\n",
       "0  <</SYS>>\\n\\nI understand how you feel. It's im...   \n",
       "1  [IST]\\n<b>My name is</b>\\n^i6\\n\\n[/IST]\\n[INST...   \n",
       "2  <</SYS>>\\n\\nYou're right not to trust people. ...   \n",
       "3  <</SYS>>\\n\\n**Zen** I understand that you're f...   \n",
       "4  <<S>> I'm sorry to hear that. What kind of arg...   \n",
       "\n",
       "                                         vicuna_v1.1  \\\n",
       "0  I'm sorry to hear that you're struggling with ...   \n",
       "1  Thank you, have a nice day as well! Is there a...   \n",
       "2  I understand that it can be difficult to trust...   \n",
       "3  I understand how you feel. It can be challengi...   \n",
       "4  I'm sorry to hear that you're having trouble w...   \n",
       "\n",
       "                                                Zen2  \n",
       "0  Hi there, it's great that you're taking the fi...  \n",
       "1                                Thank you, you too!  \n",
       "2  I understand that it can be difficult to open ...  \n",
       "3  Hey there! I totally understand how you feel, ...  \n",
       "4  I'm sorry to hear that you're having trouble w...  "
      ]
     },
     "execution_count": 2,
     "metadata": {},
     "output_type": "execute_result"
    }
   ],
   "source": [
    "from metrics import calculate_all_metrics\n",
    "import os\n",
    "import pandas as pd\n",
    "\n",
    "from tqdm.notebook import tqdm\n",
    "\n",
    "DATA_DIR = \"../data/\"\n",
    "\n",
    "df_path = os.path.join(DATA_DIR, \"llm_responses.csv\")\n",
    "df = pd.read_csv(df_path)\n",
    "df.head()"
   ]
  },
  {
   "cell_type": "code",
   "execution_count": 3,
   "id": "b49b2fae-53cb-432d-88dd-c1ab6dd83c98",
   "metadata": {},
   "outputs": [],
   "source": [
    "refs = df.answer.tolist()\n",
    "llama_responses = df[\"llama-2\"].tolist()\n",
    "vicuna_responses = df[\"vicuna_v1.1\"].tolist()\n",
    "zen_responses = df[\"Zen\"].tolist()\n",
    "zen_responses2 = df[\"Zen2\"].tolist()\n",
    "\n",
    "responses = [llama_responses, vicuna_responses, zen_responses, zen_responses2]\n",
    "labels = [\"LLaMA-2\", \"Vicuna\", \"Zen\", \"Zen2\"]"
   ]
  },
  {
   "cell_type": "code",
   "execution_count": 4,
   "id": "3a22a3ed-c649-4b20-992d-38665f10d525",
   "metadata": {},
   "outputs": [
    {
     "name": "stderr",
     "output_type": "stream",
     "text": [
      "Some weights of RobertaModel were not initialized from the model checkpoint at roberta-large and are newly initialized: ['roberta.pooler.dense.weight', 'roberta.pooler.dense.bias']\n",
      "You should probably TRAIN this model on a down-stream task to be able to use it for predictions and inference.\n",
      "Some weights of RobertaModel were not initialized from the model checkpoint at roberta-large and are newly initialized: ['roberta.pooler.dense.weight', 'roberta.pooler.dense.bias']\n",
      "You should probably TRAIN this model on a down-stream task to be able to use it for predictions and inference.\n",
      "Some weights of RobertaModel were not initialized from the model checkpoint at roberta-large and are newly initialized: ['roberta.pooler.dense.weight', 'roberta.pooler.dense.bias']\n",
      "You should probably TRAIN this model on a down-stream task to be able to use it for predictions and inference.\n",
      "Some weights of RobertaModel were not initialized from the model checkpoint at roberta-large and are newly initialized: ['roberta.pooler.dense.weight', 'roberta.pooler.dense.bias']\n",
      "You should probably TRAIN this model on a down-stream task to be able to use it for predictions and inference.\n"
     ]
    }
   ],
   "source": [
    "score_df = pd.DataFrame()\n",
    "\n",
    "for i in range(len(labels)):\n",
    "    res = calculate_all_metrics(refs, responses[i], labels[i])\n",
    "    score_df = pd.concat([score_df, res])"
   ]
  },
  {
   "cell_type": "code",
   "execution_count": 10,
   "id": "0adb34c4-d72d-41d9-99eb-02af3254fdfc",
   "metadata": {},
   "outputs": [
    {
     "data": {
      "text/html": [
       "<div>\n",
       "<style scoped>\n",
       "    .dataframe tbody tr th:only-of-type {\n",
       "        vertical-align: middle;\n",
       "    }\n",
       "\n",
       "    .dataframe tbody tr th {\n",
       "        vertical-align: top;\n",
       "    }\n",
       "\n",
       "    .dataframe thead th {\n",
       "        text-align: right;\n",
       "    }\n",
       "</style>\n",
       "<table border=\"1\" class=\"dataframe\">\n",
       "  <thead>\n",
       "    <tr style=\"text-align: right;\">\n",
       "      <th></th>\n",
       "      <th>BLEU</th>\n",
       "      <th>METEOR</th>\n",
       "      <th>BERTScore_Precision</th>\n",
       "      <th>BERTScore_Recall</th>\n",
       "      <th>BERTScore_F1</th>\n",
       "      <th>ROUGE-1_Recall</th>\n",
       "      <th>ROUGE-1_Precision</th>\n",
       "      <th>ROUGE-1_F1</th>\n",
       "      <th>ROUGE-2_Recall</th>\n",
       "      <th>ROUGE-2_Precision</th>\n",
       "      <th>ROUGE-2_F1</th>\n",
       "      <th>ROUGE-L_Recall</th>\n",
       "      <th>ROUGE-L_Precision</th>\n",
       "      <th>ROUGE-L_F1</th>\n",
       "      <th>Model</th>\n",
       "    </tr>\n",
       "  </thead>\n",
       "  <tbody>\n",
       "    <tr>\n",
       "      <th>0</th>\n",
       "      <td>0.90</td>\n",
       "      <td>19.24</td>\n",
       "      <td>80.72</td>\n",
       "      <td>85.66</td>\n",
       "      <td>83.10</td>\n",
       "      <td>21.90</td>\n",
       "      <td>15.79</td>\n",
       "      <td>17.49</td>\n",
       "      <td>3.66</td>\n",
       "      <td>2.27</td>\n",
       "      <td>2.65</td>\n",
       "      <td>19.92</td>\n",
       "      <td>14.38</td>\n",
       "      <td>15.91</td>\n",
       "      <td>LLaMA-2</td>\n",
       "    </tr>\n",
       "    <tr>\n",
       "      <th>0</th>\n",
       "      <td>4.40</td>\n",
       "      <td>30.99</td>\n",
       "      <td>86.59</td>\n",
       "      <td>88.87</td>\n",
       "      <td>87.70</td>\n",
       "      <td>36.57</td>\n",
       "      <td>21.18</td>\n",
       "      <td>25.85</td>\n",
       "      <td>10.94</td>\n",
       "      <td>5.79</td>\n",
       "      <td>7.21</td>\n",
       "      <td>33.11</td>\n",
       "      <td>19.19</td>\n",
       "      <td>23.42</td>\n",
       "      <td>Vicuna</td>\n",
       "    </tr>\n",
       "    <tr>\n",
       "      <th>0</th>\n",
       "      <td>4.69</td>\n",
       "      <td>30.97</td>\n",
       "      <td>86.66</td>\n",
       "      <td>88.87</td>\n",
       "      <td>87.74</td>\n",
       "      <td>36.70</td>\n",
       "      <td>21.30</td>\n",
       "      <td>25.94</td>\n",
       "      <td>11.34</td>\n",
       "      <td>6.05</td>\n",
       "      <td>7.45</td>\n",
       "      <td>33.14</td>\n",
       "      <td>19.28</td>\n",
       "      <td>23.45</td>\n",
       "      <td>Zen</td>\n",
       "    </tr>\n",
       "  </tbody>\n",
       "</table>\n",
       "</div>"
      ],
      "text/plain": [
       "   BLEU  METEOR  BERTScore_Precision  BERTScore_Recall  BERTScore_F1  \\\n",
       "0  0.90   19.24                80.72             85.66         83.10   \n",
       "0  4.40   30.99                86.59             88.87         87.70   \n",
       "0  4.69   30.97                86.66             88.87         87.74   \n",
       "\n",
       "   ROUGE-1_Recall  ROUGE-1_Precision  ROUGE-1_F1  ROUGE-2_Recall  \\\n",
       "0           21.90              15.79       17.49            3.66   \n",
       "0           36.57              21.18       25.85           10.94   \n",
       "0           36.70              21.30       25.94           11.34   \n",
       "\n",
       "   ROUGE-2_Precision  ROUGE-2_F1  ROUGE-L_Recall  ROUGE-L_Precision  \\\n",
       "0               2.27        2.65           19.92              14.38   \n",
       "0               5.79        7.21           33.11              19.19   \n",
       "0               6.05        7.45           33.14              19.28   \n",
       "\n",
       "   ROUGE-L_F1    Model  \n",
       "0       15.91  LLaMA-2  \n",
       "0       23.42   Vicuna  \n",
       "0       23.45      Zen  "
      ]
     },
     "execution_count": 10,
     "metadata": {},
     "output_type": "execute_result"
    }
   ],
   "source": [
    "score_df"
   ]
  },
  {
   "cell_type": "code",
   "execution_count": 5,
   "id": "d5024d30-9f49-4ad6-a7cf-d32e58b6bab0",
   "metadata": {},
   "outputs": [
    {
     "data": {
      "image/png": "[encoded data removed]",
      "text/plain": [
       "<Figure size 1200x600 with 1 Axes>"
      ]
     },
     "metadata": {},
     "output_type": "display_data"
    }
   ],
   "source": [
    "import matplotlib.pyplot as plt\n",
    "import seaborn as sns\n",
    "\n",
    "score_df = score_df.melt(id_vars=['Model'], var_name='Metric', value_name='Score')\n",
    "\n",
    "# Create the barplot\n",
    "plt.figure(figsize=(12, 6))\n",
    "sns.barplot(x='Metric', y='Score', hue='Model', data=score_df)\n",
    "\n",
    "# Customize the plot\n",
    "plt.xticks(rotation=45)\n",
    "plt.title('Model Performance Comparison')\n",
    "plt.ylabel('Score')\n",
    "plt.xlabel('Metric')\n",
    "\n",
    "# Show the plot\n",
    "plt.tight_layout()\n",
    "plt.show()"
   ]
  },
  {
   "cell_type": "code",
   "execution_count": 6,
   "id": "f4e102d6-82a3-490e-bdfd-213c969f403c",
   "metadata": {},
   "outputs": [],
   "source": [
    "import vertexai\n",
    "from vertexai.preview.language_models import TextGenerationModel\n",
    "from collections import defaultdict"
   ]
  },
  {
   "cell_type": "code",
   "execution_count": 7,
   "id": "7717bcd6-5486-43db-ae4e-5a4266e701d6",
   "metadata": {},
   "outputs": [],
   "source": [
    "def predict_large_language_model_sample(\n",
    "    project_id: str,\n",
    "    model_name: str,\n",
    "    temperature: float,\n",
    "    max_output_tokens: int,\n",
    "    top_p: float,\n",
    "    top_k: int,\n",
    "    content: str,\n",
    "    location: str = \"us-central1\",\n",
    "    tuned_model_name: str = \"\",\n",
    "    ) :\n",
    "    \n",
    "    vertexai.init(project=project_id, location=location)\n",
    "    model = TextGenerationModel.from_pretrained(model_name)\n",
    "    if tuned_model_name:\n",
    "        model = model.get_tuned_model(tuned_model_name)\n",
    "    response = model.predict(\n",
    "        content,\n",
    "        temperature=temperature,\n",
    "        max_output_tokens=max_output_tokens,\n",
    "        top_k=top_k,\n",
    "        top_p=top_p,)\n",
    "    return response.text"
   ]
  },
  {
   "cell_type": "code",
   "execution_count": 8,
   "id": "1f990e75-c072-4f1a-bddf-491153a3eb51",
   "metadata": {},
   "outputs": [
    {
     "data": {
      "text/html": [
       "<div>\n",
       "<style scoped>\n",
       "    .dataframe tbody tr th:only-of-type {\n",
       "        vertical-align: middle;\n",
       "    }\n",
       "\n",
       "    .dataframe tbody tr th {\n",
       "        vertical-align: top;\n",
       "    }\n",
       "\n",
       "    .dataframe thead th {\n",
       "        text-align: right;\n",
       "    }\n",
       "</style>\n",
       "<table border=\"1\" class=\"dataframe\">\n",
       "  <thead>\n",
       "    <tr style=\"text-align: right;\">\n",
       "      <th></th>\n",
       "      <th>orig_prompt</th>\n",
       "      <th>answer</th>\n",
       "      <th>Zen</th>\n",
       "      <th>llama-2</th>\n",
       "      <th>vicuna_v1.1</th>\n",
       "      <th>Zen2</th>\n",
       "    </tr>\n",
       "  </thead>\n",
       "  <tbody>\n",
       "    <tr>\n",
       "      <th>0</th>\n",
       "      <td>Your name is Zen and you're a mental health co...</td>\n",
       "      <td>It's common to experience low self-esteem at t...</td>\n",
       "      <td>I'm sorry to hear that you're struggling with ...</td>\n",
       "      <td>&lt;&lt;/SYS&gt;&gt;\\n\\nI understand how you feel. It's im...</td>\n",
       "      <td>I'm sorry to hear that you're struggling with ...</td>\n",
       "      <td>Hi there, it's great that you're taking the fi...</td>\n",
       "    </tr>\n",
       "    <tr>\n",
       "      <th>1</th>\n",
       "      <td>Your name is Zen and you're a mental health co...</td>\n",
       "      <td>You too! If you have any concerns or questions...</td>\n",
       "      <td>You too!</td>\n",
       "      <td>[IST]\\n&lt;b&gt;My name is&lt;/b&gt;\\n^i6\\n\\n[/IST]\\n[INST...</td>\n",
       "      <td>Thank you, have a nice day as well! Is there a...</td>\n",
       "      <td>Thank you, you too!</td>\n",
       "    </tr>\n",
       "    <tr>\n",
       "      <th>2</th>\n",
       "      <td>Your name is Zen and you're a mental health co...</td>\n",
       "      <td>It's understandable that you may have difficul...</td>\n",
       "      <td>Thank you for sharing that with me. It takes a...</td>\n",
       "      <td>&lt;&lt;/SYS&gt;&gt;\\n\\nYou're right not to trust people. ...</td>\n",
       "      <td>I understand that it can be difficult to trust...</td>\n",
       "      <td>I understand that it can be difficult to open ...</td>\n",
       "    </tr>\n",
       "    <tr>\n",
       "      <th>3</th>\n",
       "      <td>Your name is Zen and you're a mental health co...</td>\n",
       "      <td>Maintaining a healthy work-life balance is imp...</td>\n",
       "      <td>I see how that can be challenging, and it's im...</td>\n",
       "      <td>&lt;&lt;/SYS&gt;&gt;\\n\\n**Zen** I understand that you're f...</td>\n",
       "      <td>I understand how you feel. It can be challengi...</td>\n",
       "      <td>Hey there! I totally understand how you feel, ...</td>\n",
       "    </tr>\n",
       "    <tr>\n",
       "      <th>4</th>\n",
       "      <td>Your name is Zen and you're a mental health co...</td>\n",
       "      <td>It's important to communicate openly and hones...</td>\n",
       "      <td>Thank you for reaching out. It's important to ...</td>\n",
       "      <td>&lt;&lt;S&gt;&gt; I'm sorry to hear that. What kind of arg...</td>\n",
       "      <td>I'm sorry to hear that you're having trouble w...</td>\n",
       "      <td>I'm sorry to hear that you're having trouble w...</td>\n",
       "    </tr>\n",
       "  </tbody>\n",
       "</table>\n",
       "</div>"
      ],
      "text/plain": [
       "                                         orig_prompt  \\\n",
       "0  Your name is Zen and you're a mental health co...   \n",
       "1  Your name is Zen and you're a mental health co...   \n",
       "2  Your name is Zen and you're a mental health co...   \n",
       "3  Your name is Zen and you're a mental health co...   \n",
       "4  Your name is Zen and you're a mental health co...   \n",
       "\n",
       "                                              answer  \\\n",
       "0  It's common to experience low self-esteem at t...   \n",
       "1  You too! If you have any concerns or questions...   \n",
       "2  It's understandable that you may have difficul...   \n",
       "3  Maintaining a healthy work-life balance is imp...   \n",
       "4  It's important to communicate openly and hones...   \n",
       "\n",
       "                                                 Zen  \\\n",
       "0  I'm sorry to hear that you're struggling with ...   \n",
       "1                                           You too!   \n",
       "2  Thank you for sharing that with me. It takes a...   \n",
       "3  I see how that can be challenging, and it's im...   \n",
       "4  Thank you for reaching out. It's important to ...   \n",
       "\n",
       "                                             llama-2  \\\n",
       "0  <</SYS>>\\n\\nI understand how you feel. It's im...   \n",
       "1  [IST]\\n<b>My name is</b>\\n^i6\\n\\n[/IST]\\n[INST...   \n",
       "2  <</SYS>>\\n\\nYou're right not to trust people. ...   \n",
       "3  <</SYS>>\\n\\n**Zen** I understand that you're f...   \n",
       "4  <<S>> I'm sorry to hear that. What kind of arg...   \n",
       "\n",
       "                                         vicuna_v1.1  \\\n",
       "0  I'm sorry to hear that you're struggling with ...   \n",
       "1  Thank you, have a nice day as well! Is there a...   \n",
       "2  I understand that it can be difficult to trust...   \n",
       "3  I understand how you feel. It can be challengi...   \n",
       "4  I'm sorry to hear that you're having trouble w...   \n",
       "\n",
       "                                                Zen2  \n",
       "0  Hi there, it's great that you're taking the fi...  \n",
       "1                                Thank you, you too!  \n",
       "2  I understand that it can be difficult to open ...  \n",
       "3  Hey there! I totally understand how you feel, ...  \n",
       "4  I'm sorry to hear that you're having trouble w...  "
      ]
     },
     "execution_count": 8,
     "metadata": {},
     "output_type": "execute_result"
    }
   ],
   "source": [
    "df.head()"
   ]
  },
  {
   "cell_type": "code",
   "execution_count": 9,
   "id": "971b7166-1ec2-447a-8cf4-861f7397782a",
   "metadata": {},
   "outputs": [],
   "source": [
    "index = 0\n",
    "winners = defaultdict(int)\n",
    "\n",
    "lw, zw, vw = [], [], []"
   ]
  },
  {
   "cell_type": "code",
   "execution_count": 17,
   "id": "b2e541f8-f64d-4fd7-bd72-e36fd11b9723",
   "metadata": {},
   "outputs": [
    {
     "data": {
      "text/plain": [
       "(999, 1000, {'Vicuna': 638, 'Zen': 362})"
      ]
     },
     "execution_count": 17,
     "metadata": {},
     "output_type": "execute_result"
    }
   ],
   "source": [
    "i, index, winners"
   ]
  },
  {
   "cell_type": "code",
   "execution_count": 12,
   "id": "d813620f-4a6c-4e94-9243-ceed95f191a2",
   "metadata": {},
   "outputs": [],
   "source": [
    "import re, time"
   ]
  },
  {
   "cell_type": "code",
   "execution_count": 19,
   "id": "d4b2244e-6fa3-48da-aa32-fef8d2c5bf0e",
   "metadata": {},
   "outputs": [
    {
     "name": "stdout",
     "output_type": "stream",
     "text": [
      "[3, 10, 13, 14, 15, 16, 19, 22, 24, 25, 26, 30, 38, 40, 42, 43, 44, 46, 60, 63, 65, 68, 73, 74, 77, 79, 82, 85, 86, 87, 89, 91, 94, 96, 100, 108, 113, 116, 118, 119, 124, 127, 131, 137, 138, 139, 140, 141, 146, 150, 153, 155, 158, 161, 162, 163, 165, 168, 169, 173, 174, 175, 181, 182, 183, 185, 186, 188, 190, 192, 193, 194, 195, 197, 199, 201, 202, 206, 213, 215, 216, 217, 223, 224, 225, 227, 229, 232, 235, 237, 244, 248, 249, 254, 256, 257, 259, 260, 261, 262, 263, 265, 270, 271, 274, 277, 279, 286, 289, 293, 297, 301, 309, 311, 314, 318, 322, 331, 332, 335, 337, 338, 339, 344, 345, 346, 352, 354, 356, 361, 367, 371, 374, 377, 378, 383, 386, 387, 391, 394, 397, 399, 402, 403, 405, 409, 411, 415, 416, 421, 422, 426, 430, 435, 438, 447, 454, 457, 458, 462, 463, 464, 465, 467, 471, 472, 474, 477, 480, 481, 482, 485, 486, 493, 495, 499, 500, 506, 508, 516, 521, 522, 525, 527, 534, 535, 536, 539, 540, 541, 542, 546, 547, 550, 551, 554, 556, 559, 560, 564, 571, 578, 582, 591, 592, 593, 597, 598, 601, 605, 612, 614, 615, 616, 619, 622, 624, 625, 628, 629, 632, 635, 637, 642, 643, 645, 652, 655, 656, 658, 663, 665, 667, 668, 669, 671, 678, 679, 682, 695, 696, 700, 701, 704, 707, 710, 712, 714, 716, 718, 722, 723, 726, 734, 735, 738, 741, 742, 743, 745, 748, 751, 753, 757, 760, 767, 769, 770, 771, 774, 778, 779, 788, 789, 791, 793, 794, 795, 799, 800, 801, 802, 804, 806, 807, 809, 811, 813, 815, 816, 820, 822, 823, 824, 827, 830, 831, 832, 833, 837, 846, 851, 854, 855, 859, 864, 865, 868, 870, 874, 878, 880, 881, 882, 883, 884, 886, 891, 892, 893, 897, 898, 901, 904, 906, 908, 912, 913, 914, 917, 918, 920, 921, 929, 934, 940, 941, 942, 946, 947, 949, 951, 958, 963, 966, 970, 972, 973, 978, 979, 981, 982, 983, 984, 985, 986, 988, 989, 990, 994, 996, 999]\n"
     ]
    }
   ],
   "source": [
    "print(zw)"
   ]
  },
  {
   "cell_type": "code",
   "execution_count": 20,
   "id": "59c81b2f-8802-470e-8547-5d9ebd912ddf",
   "metadata": {},
   "outputs": [
    {
     "name": "stdout",
     "output_type": "stream",
     "text": [
      "[0, 1, 2, 4, 5, 6, 7, 8, 9, 11, 12, 17, 18, 20, 21, 23, 27, 28, 29, 31, 32, 33, 34, 35, 36, 37, 39, 41, 45, 47, 48, 49, 50, 51, 52, 53, 54, 55, 56, 57, 58, 59, 61, 62, 64, 66, 67, 69, 70, 71, 72, 75, 76, 78, 80, 81, 83, 84, 88, 90, 92, 93, 95, 97, 98, 99, 101, 102, 103, 104, 105, 106, 107, 109, 110, 111, 112, 114, 115, 117, 120, 121, 122, 123, 125, 126, 128, 129, 130, 132, 133, 134, 135, 136, 142, 143, 144, 145, 147, 148, 149, 151, 152, 154, 156, 157, 159, 160, 164, 166, 167, 170, 171, 172, 176, 177, 178, 179, 180, 184, 187, 189, 191, 196, 198, 200, 203, 204, 205, 207, 208, 209, 210, 211, 212, 214, 218, 219, 220, 221, 222, 226, 228, 230, 231, 233, 234, 236, 238, 239, 240, 241, 242, 243, 245, 246, 247, 250, 251, 252, 253, 255, 258, 264, 266, 267, 268, 269, 272, 273, 275, 276, 278, 280, 281, 282, 283, 284, 285, 287, 288, 290, 291, 292, 294, 295, 296, 298, 299, 300, 302, 303, 304, 305, 306, 307, 308, 310, 312, 313, 315, 316, 317, 319, 320, 321, 323, 324, 325, 326, 327, 328, 329, 330, 333, 334, 336, 340, 341, 342, 343, 347, 348, 349, 350, 351, 353, 355, 357, 358, 359, 360, 362, 363, 364, 365, 366, 368, 369, 370, 372, 373, 375, 376, 379, 380, 381, 382, 384, 385, 388, 389, 390, 392, 393, 395, 396, 398, 400, 401, 404, 406, 407, 408, 410, 412, 413, 414, 417, 418, 419, 420, 423, 424, 425, 427, 428, 429, 431, 432, 433, 434, 436, 437, 439, 440, 441, 442, 443, 444, 445, 446, 448, 449, 450, 451, 452, 453, 455, 456, 459, 460, 461, 466, 468, 469, 470, 473, 475, 476, 478, 479, 483, 484, 487, 488, 489, 490, 491, 492, 494, 496, 497, 498, 501, 502, 503, 504, 505, 507, 509, 510, 511, 512, 513, 514, 515, 517, 518, 519, 520, 523, 524, 526, 528, 529, 530, 531, 532, 533, 537, 538, 543, 544, 545, 548, 549, 552, 553, 555, 557, 558, 561, 562, 563, 565, 566, 567, 568, 569, 570, 572, 573, 574, 575, 576, 577, 579, 580, 581, 583, 584, 585, 586, 587, 588, 589, 590, 594, 595, 596, 599, 600, 602, 603, 604, 606, 607, 608, 609, 610, 611, 613, 617, 618, 620, 621, 623, 626, 627, 630, 631, 633, 634, 636, 638, 639, 640, 641, 644, 646, 647, 648, 649, 650, 651, 653, 654, 657, 659, 660, 661, 662, 664, 666, 670, 672, 673, 674, 675, 676, 677, 680, 681, 683, 684, 685, 686, 687, 688, 689, 690, 691, 692, 693, 694, 697, 698, 699, 702, 703, 705, 706, 708, 709, 711, 713, 715, 717, 719, 720, 721, 724, 725, 727, 728, 729, 730, 731, 732, 733, 736, 737, 739, 740, 744, 746, 747, 749, 750, 752, 754, 755, 756, 758, 759, 761, 762, 763, 764, 765, 766, 768, 772, 773, 775, 776, 777, 780, 781, 782, 783, 784, 785, 786, 787, 790, 792, 796, 797, 798, 803, 805, 808, 810, 812, 814, 817, 818, 819, 821, 825, 826, 828, 829, 834, 835, 836, 838, 839, 840, 841, 842, 843, 844, 845, 847, 848, 849, 850, 852, 853, 856, 857, 858, 860, 861, 862, 863, 866, 867, 869, 871, 872, 873, 875, 876, 877, 879, 885, 887, 888, 889, 890, 894, 895, 896, 899, 900, 902, 903, 905, 907, 909, 910, 911, 915, 916, 919, 922, 923, 924, 925, 926, 927, 928, 930, 931, 932, 933, 935, 936, 937, 938, 939, 943, 944, 945, 948, 950, 952, 953, 954, 955, 956, 957, 959, 960, 961, 962, 964, 965, 967, 968, 969, 971, 974, 975, 976, 977, 980, 987, 991, 992, 993, 995, 997, 998]\n"
     ]
    }
   ],
   "source": [
    "print(vw)"
   ]
  },
  {
   "cell_type": "code",
   "execution_count": 16,
   "id": "725d244d-6ce1-48ae-92f7-92c33bdc1644",
   "metadata": {},
   "outputs": [
    {
     "data": {
      "application/vnd.jupyter.widget-view+json": {
       "model_id": "148efba9bb7b4cdb89acfa99c9818e1c",
       "version_major": 2,
       "version_minor": 0
      },
      "text/plain": [
       "  0%|          | 0/817 [00:00<?, ?it/s]"
      ]
     },
     "metadata": {},
     "output_type": "display_data"
    }
   ],
   "source": [
    "for i in tqdm(range(index, len(df))):\n",
    "    question = re.findall(r\"USER: (.*?) ASSISTANT: \", df.orig_prompt.values[i])[-1].strip()\n",
    "    llama = df[\"llama-2\"][i]\n",
    "    vicuna = df[\"vicuna_v1.1\"][i]\n",
    "    zen = df[\"Zen2\"][i]\n",
    "\n",
    "    prompt = f\"\"\"Below is an excerpt from a conversation between a patient seeking therapeutic guidance and their therapist. You're given a question asked by the patient and three possible answers to this question generated by three different language models LLaMA, Vicuna, and Zen. Your job is to select which response is the best when it comes to therapy. You must choose the best responses. Only reply with model name and nothing else.\n",
    "\n",
    "### Question\n",
    "{question}\n",
    "\n",
    "### LLaMA Response\n",
    "{llama}\n",
    "\n",
    "### Vicuna Response\n",
    "{vicuna}\n",
    "\n",
    "### Zen Response\n",
    "{zen}\n",
    "\"\"\"\n",
    "    text = predict_large_language_model_sample(\n",
    "        project_id=\"cloud-lab-ff59\", \n",
    "        model_name=\"text-bison\", \n",
    "        temperature=0.0, \n",
    "        max_output_tokens=128,\n",
    "        top_p=0.8, \n",
    "        top_k=40, \n",
    "        location=\"us-central1\",\n",
    "        content=prompt\n",
    "    ).strip()\n",
    "    \n",
    "    text = text.split(\",\")\n",
    "    for t in text:\n",
    "        t = t.strip()\n",
    "        winners[t] += 1\n",
    "        if t.lower() == \"llama\":\n",
    "            lw.append(i)\n",
    "        elif t.lower() == \"zen\":\n",
    "            zw.append(i)\n",
    "        elif t.lower() == \"vicuna\":\n",
    "            vw.append(i)\n",
    "        else:\n",
    "            print(i, text)\n",
    "    index += 1\n",
    "    time.sleep(1)\n",
    "\n",
    "winners = dict(winners)"
   ]
  },
  {
   "cell_type": "code",
   "execution_count": null,
   "id": "09426a75-d884-4c34-9042-1f172904efff",
   "metadata": {},
   "outputs": [],
   "source": []
  }
 ],
 "metadata": {
  "environment": {
   "kernel": "python3",
   "name": "common-gpu.m112",
   "type": "gcloud",
   "uri": "gcr.io/deeplearning-platform-release/base-gpu:m112"
  },
  "kernelspec": {
   "display_name": "Python 3",
   "language": "python",
   "name": "python3"
  },
  "language_info": {
   "codemirror_mode": {
    "name": "ipython",
    "version": 3
   },
   "file_extension": ".py",
   "mimetype": "text/x-python",
   "name": "python",
   "nbconvert_exporter": "python",
   "pygments_lexer": "ipython3",
   "version": "3.10.12"
  }
 },
 "nbformat": 4,
 "nbformat_minor": 5
}
