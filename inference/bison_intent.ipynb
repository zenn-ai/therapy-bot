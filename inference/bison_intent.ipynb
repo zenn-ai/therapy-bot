{
 "cells": [
  {
   "cell_type": "code",
   "execution_count": null,
   "id": "3f0d5fb9-501b-4fa7-8121-9d00e36c555f",
   "metadata": {},
   "outputs": [],
   "source": [
    "# %pip install google-cloud-aiplatform==1.25.0\n",
    "# %pip install google-api-core==1.33.1"
   ]
  },
  {
   "cell_type": "code",
   "execution_count": 5,
   "id": "94e8f720-5105-4f58-8393-21da8d8040a0",
   "metadata": {},
   "outputs": [],
   "source": [
    "import os\n",
    "import vertexai\n",
    "from vertexai.preview.language_models import TextGenerationModel, ChatModel\n",
    "import pandas as pd\n",
    "from PyPDF2 import PdfReader\n",
    "pd.set_option('display.max_columns', None)\n",
    "pd.set_option('display.max_colwidth', None)\n",
    "pd.set_option('display.max_rows', None)\n",
    "\n",
    "import warnings\n",
    "warnings.filterwarnings(\"ignore\")"
   ]
  },
  {
   "cell_type": "markdown",
   "id": "3e2adcb4-bd3c-4f18-95fe-67f5cb875e04",
   "metadata": {},
   "source": [
    "### Implement"
   ]
  },
  {
   "cell_type": "code",
   "execution_count": 7,
   "id": "0751b29f-09e5-40cb-917c-51ddbe2167a5",
   "metadata": {},
   "outputs": [],
   "source": [
    "prompt = \"\"\"\n",
    "            You are an intent classifier responsible for classifying the intent of a therapy client. You must select one intent between the following five options. You must strictly respond with the corresponding number.\n",
    "            1. Reference to a previously held conversation that they had with you - look for signs that they want to discuss something they chatted to you about in the past. \n",
    "            2. Client wants to vent and is just looking for you to listen and affirm\n",
    "            3. Requesting therapeutic or general guidance\n",
    "            4. Intent to harm themselves or someone else\n",
    "            5. Having casual small talk\n",
    "        ----------------------------------------------------------------------\n",
    "        Client:\n",
    "        \"\"\""
   ]
  },
  {
   "cell_type": "code",
   "execution_count": 3,
   "id": "71aad209-fc9d-4036-919c-82a3f8d5e9b3",
   "metadata": {},
   "outputs": [
    {
     "name": "stdin",
     "output_type": "stream",
     "text": [
      "Client: hey zen\n"
     ]
    },
    {
     "name": "stdout",
     "output_type": "stream",
     "text": [
      "Intent:  5\n"
     ]
    },
    {
     "name": "stdin",
     "output_type": "stream",
     "text": [
      "Client: how's it goin\n"
     ]
    },
    {
     "name": "stdout",
     "output_type": "stream",
     "text": [
      "Intent:  5\n"
     ]
    },
    {
     "name": "stdin",
     "output_type": "stream",
     "text": [
      "Client: i don't want to hurt myself anymore\n"
     ]
    },
    {
     "name": "stdout",
     "output_type": "stream",
     "text": [
      "Intent:  4\n"
     ]
    },
    {
     "name": "stdin",
     "output_type": "stream",
     "text": [
      "Client: remember we talked about anxiety last time?\n"
     ]
    },
    {
     "name": "stdout",
     "output_type": "stream",
     "text": [
      "Intent:  1\n"
     ]
    },
    {
     "name": "stdin",
     "output_type": "stream",
     "text": [
      "Client: It's just hard you know\n"
     ]
    },
    {
     "name": "stdout",
     "output_type": "stream",
     "text": [
      "Intent:  2\n"
     ]
    },
    {
     "name": "stdin",
     "output_type": "stream",
     "text": [
      "Client: how do you think i should address anxiety?\n"
     ]
    },
    {
     "name": "stdout",
     "output_type": "stream",
     "text": [
      "Intent:  3\n"
     ]
    },
    {
     "name": "stdin",
     "output_type": "stream",
     "text": [
      "Client: exit\n"
     ]
    }
   ],
   "source": [
    "# while True:\n",
    "#     chat_model = ChatModel.from_pretrained(\"chat-bison\")\n",
    "#     parameters = {\n",
    "#         \"max_output_tokens\": 50,\n",
    "#         \"temperature\": 0.2,\n",
    "#         \"top_p\": 0.8,\n",
    "#         \"top_k\": 40\n",
    "#     }\n",
    "#     chat = chat_model.start_chat()\n",
    "#     text = input(\"Client:\",)\n",
    "    \n",
    "#     if text == \"exit\":\n",
    "#         break\n",
    "        \n",
    "#     response = chat.send_message(prompt + text, **parameters)\n",
    "#     print(f\"Intent: {response.text}\")"
   ]
  },
  {
   "cell_type": "markdown",
   "id": "0bffb9d8-fdb8-4627-8ea5-0375cd3c7e07",
   "metadata": {},
   "source": [
    "### Testing"
   ]
  },
  {
   "cell_type": "code",
   "execution_count": 8,
   "id": "fe83ef76-ff60-4adc-8dd0-29b86eae61de",
   "metadata": {},
   "outputs": [],
   "source": [
    "chat_model = ChatModel.from_pretrained(\"chat-bison\")\n",
    "parameters = {\n",
    "    \"max_output_tokens\": 50,\n",
    "    \"temperature\": 0.2,\n",
    "    \"top_p\": 0.8,\n",
    "    \"top_k\": 40\n",
    "}"
   ]
  },
  {
   "cell_type": "code",
   "execution_count": 34,
   "id": "c3b8472a-6573-4bca-a08a-88d21498681c",
   "metadata": {},
   "outputs": [],
   "source": [
    "import pandas as pd\n",
    "# Load example statements (curated with the help of ChatGPT)\n",
    "df = pd.read_csv(\"intent_examples.csv\")"
   ]
  },
  {
   "cell_type": "code",
   "execution_count": 29,
   "id": "0fbd0f89-a333-47be-9219-3cc2b8efc2d5",
   "metadata": {},
   "outputs": [],
   "source": [
    "pred = []\n",
    "for i in range(df.shape[0]):\n",
    "    chat = chat_model.start_chat()\n",
    "    text = df['Statement'][i]\n",
    "    response = int(chat.send_message(prompt + text, **parameters).text)\n",
    "    pred.append(response)"
   ]
  },
  {
   "cell_type": "code",
   "execution_count": 39,
   "id": "9f656455-eeb4-4ff5-8e64-9e0dfe0d0db8",
   "metadata": {},
   "outputs": [
    {
     "data": {
      "text/html": [
       "<div>\n",
       "<style scoped>\n",
       "    .dataframe tbody tr th:only-of-type {\n",
       "        vertical-align: middle;\n",
       "    }\n",
       "\n",
       "    .dataframe tbody tr th {\n",
       "        vertical-align: top;\n",
       "    }\n",
       "\n",
       "    .dataframe thead th {\n",
       "        text-align: right;\n",
       "    }\n",
       "</style>\n",
       "<table border=\"1\" class=\"dataframe\">\n",
       "  <thead>\n",
       "    <tr style=\"text-align: right;\">\n",
       "      <th></th>\n",
       "      <th>actual</th>\n",
       "      <th>predictions</th>\n",
       "    </tr>\n",
       "  </thead>\n",
       "  <tbody>\n",
       "    <tr>\n",
       "      <th>0</th>\n",
       "      <td>5</td>\n",
       "      <td>5</td>\n",
       "    </tr>\n",
       "    <tr>\n",
       "      <th>1</th>\n",
       "      <td>5</td>\n",
       "      <td>5</td>\n",
       "    </tr>\n",
       "    <tr>\n",
       "      <th>2</th>\n",
       "      <td>5</td>\n",
       "      <td>5</td>\n",
       "    </tr>\n",
       "    <tr>\n",
       "      <th>3</th>\n",
       "      <td>5</td>\n",
       "      <td>5</td>\n",
       "    </tr>\n",
       "    <tr>\n",
       "      <th>4</th>\n",
       "      <td>5</td>\n",
       "      <td>5</td>\n",
       "    </tr>\n",
       "    <tr>\n",
       "      <th>5</th>\n",
       "      <td>5</td>\n",
       "      <td>5</td>\n",
       "    </tr>\n",
       "    <tr>\n",
       "      <th>6</th>\n",
       "      <td>3</td>\n",
       "      <td>3</td>\n",
       "    </tr>\n",
       "    <tr>\n",
       "      <th>7</th>\n",
       "      <td>3</td>\n",
       "      <td>3</td>\n",
       "    </tr>\n",
       "    <tr>\n",
       "      <th>8</th>\n",
       "      <td>3</td>\n",
       "      <td>3</td>\n",
       "    </tr>\n",
       "    <tr>\n",
       "      <th>9</th>\n",
       "      <td>3</td>\n",
       "      <td>3</td>\n",
       "    </tr>\n",
       "    <tr>\n",
       "      <th>10</th>\n",
       "      <td>3</td>\n",
       "      <td>3</td>\n",
       "    </tr>\n",
       "    <tr>\n",
       "      <th>11</th>\n",
       "      <td>3</td>\n",
       "      <td>3</td>\n",
       "    </tr>\n",
       "    <tr>\n",
       "      <th>12</th>\n",
       "      <td>1</td>\n",
       "      <td>1</td>\n",
       "    </tr>\n",
       "    <tr>\n",
       "      <th>13</th>\n",
       "      <td>1</td>\n",
       "      <td>1</td>\n",
       "    </tr>\n",
       "    <tr>\n",
       "      <th>14</th>\n",
       "      <td>1</td>\n",
       "      <td>1</td>\n",
       "    </tr>\n",
       "    <tr>\n",
       "      <th>15</th>\n",
       "      <td>1</td>\n",
       "      <td>1</td>\n",
       "    </tr>\n",
       "    <tr>\n",
       "      <th>16</th>\n",
       "      <td>1</td>\n",
       "      <td>1</td>\n",
       "    </tr>\n",
       "    <tr>\n",
       "      <th>17</th>\n",
       "      <td>1</td>\n",
       "      <td>1</td>\n",
       "    </tr>\n",
       "    <tr>\n",
       "      <th>18</th>\n",
       "      <td>4</td>\n",
       "      <td>4</td>\n",
       "    </tr>\n",
       "    <tr>\n",
       "      <th>19</th>\n",
       "      <td>4</td>\n",
       "      <td>4</td>\n",
       "    </tr>\n",
       "    <tr>\n",
       "      <th>20</th>\n",
       "      <td>4</td>\n",
       "      <td>4</td>\n",
       "    </tr>\n",
       "    <tr>\n",
       "      <th>21</th>\n",
       "      <td>4</td>\n",
       "      <td>4</td>\n",
       "    </tr>\n",
       "    <tr>\n",
       "      <th>22</th>\n",
       "      <td>4</td>\n",
       "      <td>4</td>\n",
       "    </tr>\n",
       "    <tr>\n",
       "      <th>23</th>\n",
       "      <td>4</td>\n",
       "      <td>4</td>\n",
       "    </tr>\n",
       "    <tr>\n",
       "      <th>24</th>\n",
       "      <td>2</td>\n",
       "      <td>2</td>\n",
       "    </tr>\n",
       "    <tr>\n",
       "      <th>25</th>\n",
       "      <td>2</td>\n",
       "      <td>2</td>\n",
       "    </tr>\n",
       "    <tr>\n",
       "      <th>26</th>\n",
       "      <td>2</td>\n",
       "      <td>2</td>\n",
       "    </tr>\n",
       "    <tr>\n",
       "      <th>27</th>\n",
       "      <td>2</td>\n",
       "      <td>1</td>\n",
       "    </tr>\n",
       "    <tr>\n",
       "      <th>28</th>\n",
       "      <td>2</td>\n",
       "      <td>3</td>\n",
       "    </tr>\n",
       "    <tr>\n",
       "      <th>29</th>\n",
       "      <td>2</td>\n",
       "      <td>2</td>\n",
       "    </tr>\n",
       "  </tbody>\n",
       "</table>\n",
       "</div>"
      ],
      "text/plain": [
       "    actual  predictions\n",
       "0        5            5\n",
       "1        5            5\n",
       "2        5            5\n",
       "3        5            5\n",
       "4        5            5\n",
       "5        5            5\n",
       "6        3            3\n",
       "7        3            3\n",
       "8        3            3\n",
       "9        3            3\n",
       "10       3            3\n",
       "11       3            3\n",
       "12       1            1\n",
       "13       1            1\n",
       "14       1            1\n",
       "15       1            1\n",
       "16       1            1\n",
       "17       1            1\n",
       "18       4            4\n",
       "19       4            4\n",
       "20       4            4\n",
       "21       4            4\n",
       "22       4            4\n",
       "23       4            4\n",
       "24       2            2\n",
       "25       2            2\n",
       "26       2            2\n",
       "27       2            1\n",
       "28       2            3\n",
       "29       2            2"
      ]
     },
     "execution_count": 39,
     "metadata": {},
     "output_type": "execute_result"
    }
   ],
   "source": [
    "pd.DataFrame({'actual': df.Intent, 'predictions': pred})"
   ]
  },
  {
   "cell_type": "code",
   "execution_count": 40,
   "id": "15740a38-a6d7-4b86-abea-8a83a4f21b68",
   "metadata": {},
   "outputs": [
    {
     "data": {
      "text/plain": [
       "0.9333333333333333"
      ]
     },
     "execution_count": 40,
     "metadata": {},
     "output_type": "execute_result"
    }
   ],
   "source": [
    "sum(df['Intent'] == pred)/df.shape[0]"
   ]
  },
  {
   "cell_type": "code",
   "execution_count": 41,
   "id": "7e0a8589-00a0-43af-9850-6bc0768eaa6d",
   "metadata": {},
   "outputs": [
    {
     "data": {
      "text/plain": [
       "(30, 3)"
      ]
     },
     "execution_count": 41,
     "metadata": {},
     "output_type": "execute_result"
    }
   ],
   "source": [
    "df.shape"
   ]
  }
 ],
 "metadata": {
  "environment": {
   "kernel": "py310",
   "name": "tf2-gpu.2-11.m108",
   "type": "gcloud",
   "uri": "gcr.io/deeplearning-platform-release/tf2-gpu.2-11:m108"
  },
  "kernelspec": {
   "display_name": "Python (3.10)",
   "language": "python",
   "name": "py310"
  },
  "language_info": {
   "codemirror_mode": {
    "name": "ipython",
    "version": 3
   },
   "file_extension": ".py",
   "mimetype": "text/x-python",
   "name": "python",
   "nbconvert_exporter": "python",
   "pygments_lexer": "ipython3",
   "version": "3.10.11"
  }
 },
 "nbformat": 4,
 "nbformat_minor": 5
}
