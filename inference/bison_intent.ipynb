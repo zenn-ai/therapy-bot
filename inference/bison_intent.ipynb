{
 "cells": [
  {
   "cell_type": "code",
   "execution_count": null,
   "id": "3f0d5fb9-501b-4fa7-8121-9d00e36c555f",
   "metadata": {},
   "outputs": [],
   "source": [
    "# %pip install google-cloud-aiplatform==1.25.0\n",
    "# %pip install google-api-core==1.33.1"
   ]
  },
  {
   "cell_type": "code",
   "execution_count": 1,
   "id": "94e8f720-5105-4f58-8393-21da8d8040a0",
   "metadata": {},
   "outputs": [],
   "source": [
    "import os\n",
    "import vertexai\n",
    "from vertexai.preview.language_models import TextGenerationModel, ChatModel\n",
    "import pandas as pd\n",
    "from PyPDF2 import PdfReader\n",
    "pd.set_option('display.max_columns', None)\n",
    "pd.set_option('display.max_colwidth', None)\n",
    "pd.set_option('display.max_rows', None)\n",
    "\n",
    "import warnings\n",
    "warnings.filterwarnings(\"ignore\")"
   ]
  },
  {
   "cell_type": "code",
   "execution_count": 2,
   "id": "0751b29f-09e5-40cb-917c-51ddbe2167a5",
   "metadata": {},
   "outputs": [],
   "source": [
    "prompt = \"\"\"\n",
    "            You are an intent classifier responsible for classifying the intent of a therapy client. You must select one intent between the following five options. You must strictly respond with the corresponding number.\n",
    "            1. Reference to a previously held conversation that they had with you - look for signs that they want to discuss something they chatted to you about in the past. \n",
    "            2. Client wants to vent and is just looking for you to listen and affirm\n",
    "            3. Requesting therapeutic or general guidance\n",
    "            4. Intent to harm themselves or someone else\n",
    "            5. Having casual small talk\n",
    "        ----------------------------------------------------------------------\n",
    "        Client:\n",
    "        \"\"\""
   ]
  },
  {
   "cell_type": "code",
   "execution_count": 3,
   "id": "71aad209-fc9d-4036-919c-82a3f8d5e9b3",
   "metadata": {},
   "outputs": [
    {
     "name": "stdin",
     "output_type": "stream",
     "text": [
      "Client: hey zen\n"
     ]
    },
    {
     "name": "stdout",
     "output_type": "stream",
     "text": [
      "Intent:  5\n"
     ]
    },
    {
     "name": "stdin",
     "output_type": "stream",
     "text": [
      "Client: how's it goin\n"
     ]
    },
    {
     "name": "stdout",
     "output_type": "stream",
     "text": [
      "Intent:  5\n"
     ]
    },
    {
     "name": "stdin",
     "output_type": "stream",
     "text": [
      "Client: i don't want to hurt myself anymore\n"
     ]
    },
    {
     "name": "stdout",
     "output_type": "stream",
     "text": [
      "Intent:  4\n"
     ]
    },
    {
     "name": "stdin",
     "output_type": "stream",
     "text": [
      "Client: remember we talked about anxiety last time?\n"
     ]
    },
    {
     "name": "stdout",
     "output_type": "stream",
     "text": [
      "Intent:  1\n"
     ]
    },
    {
     "name": "stdin",
     "output_type": "stream",
     "text": [
      "Client: It's just hard you know\n"
     ]
    },
    {
     "name": "stdout",
     "output_type": "stream",
     "text": [
      "Intent:  2\n"
     ]
    },
    {
     "name": "stdin",
     "output_type": "stream",
     "text": [
      "Client: how do you think i should address anxiety?\n"
     ]
    },
    {
     "name": "stdout",
     "output_type": "stream",
     "text": [
      "Intent:  3\n"
     ]
    },
    {
     "name": "stdin",
     "output_type": "stream",
     "text": [
      "Client: exit\n"
     ]
    }
   ],
   "source": [
    "while True:\n",
    "    chat_model = ChatModel.from_pretrained(\"chat-bison\")\n",
    "    parameters = {\n",
    "        \"max_output_tokens\": 50,\n",
    "        \"temperature\": 0.2,\n",
    "        \"top_p\": 0.8,\n",
    "        \"top_k\": 40\n",
    "    }\n",
    "    chat = chat_model.start_chat()\n",
    "    text = input(\"Client:\",)\n",
    "    \n",
    "    if text == \"exit\":\n",
    "        break\n",
    "        \n",
    "    response = chat.send_message(prompt + text, **parameters)\n",
    "    print(f\"Intent: {response.text}\")"
   ]
  }
 ],
 "metadata": {
  "environment": {
   "kernel": "py310",
   "name": "tf2-gpu.2-11.m108",
   "type": "gcloud",
   "uri": "gcr.io/deeplearning-platform-release/tf2-gpu.2-11:m108"
  },
  "kernelspec": {
   "display_name": "Python (3.10)",
   "language": "python",
   "name": "py310"
  },
  "language_info": {
   "codemirror_mode": {
    "name": "ipython",
    "version": 3
   },
   "file_extension": ".py",
   "mimetype": "text/x-python",
   "name": "python",
   "nbconvert_exporter": "python",
   "pygments_lexer": "ipython3",
   "version": "3.10.11"
  }
 },
 "nbformat": 4,
 "nbformat_minor": 5
}
