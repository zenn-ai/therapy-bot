{
 "cells": [
  {
   "cell_type": "code",
   "execution_count": 1,
   "id": "d8ce74b6-77f4-449a-b25d-a4d9d7bb7b9f",
   "metadata": {},
   "outputs": [
    {
     "name": "stdout",
     "output_type": "stream",
     "text": [
      "\n",
      "===================================BUG REPORT===================================\n",
      "Welcome to bitsandbytes. For bug reports, please submit your error trace to: https://github.com/TimDettmers/bitsandbytes/issues\n",
      "================================================================================\n",
      "CUDA SETUP: CUDA runtime path found: /usr/local/cuda/lib64/libcudart.so\n",
      "CUDA SETUP: Highest compute capability among GPUs detected: 7.5\n",
      "CUDA SETUP: Detected CUDA version 110\n",
      "CUDA SETUP: Loading binary /opt/conda/envs/py310/lib/python3.10/site-packages/bitsandbytes/libbitsandbytes_cuda110.so...\n"
     ]
    },
    {
     "name": "stderr",
     "output_type": "stream",
     "text": [
      "/opt/conda/envs/py310/lib/python3.10/site-packages/bitsandbytes/cuda_setup/main.py:136: UserWarning: /opt/conda did not contain libcudart.so as expected! Searching further paths...\n",
      "  warn(msg)\n"
     ]
    }
   ],
   "source": [
    "from glob import glob\n",
    "import re\n",
    "\n",
    "import ipywidgets as widgets\n",
    "from IPython.display import display, HTML, Javascript, clear_output\n",
    "\n",
    "from langchain.document_loaders import DirectoryLoader\n",
    "from langchain.schema import Document\n",
    "from langchain.vectorstores import Qdrant\n",
    "from langchain.embeddings import HuggingFaceEmbeddings\n",
    "from transformers import LlamaForCausalLM, LlamaTokenizer, GenerationConfig\n",
    "from peft import PeftModel"
   ]
  },
  {
   "cell_type": "code",
   "execution_count": 2,
   "id": "14d476ce-0689-4153-bd54-5318b12c9f93",
   "metadata": {},
   "outputs": [],
   "source": [
    "import torch"
   ]
  },
  {
   "cell_type": "code",
   "execution_count": 3,
   "id": "4ecb2e8b-f1c3-4cf2-83d4-b01413a9bffc",
   "metadata": {},
   "outputs": [
    {
     "name": "stdout",
     "output_type": "stream",
     "text": [
      "\n",
      "This chapter has presented a wide range of material, including some quite complex ideas from philosophy. Some of the discussion may seem to be a long way from the day-to-day\n",
      "reality of the therapist or the client. It is certainly not essential to have a fluent grasp of all of these ideas in order to understand the therapeutic work which is presented in the case studies which follow. However, the ability to remain open- minded, and to experiment with new approaches and ideas, is an essential feature of CBT. Furthermore, CBT formulation is a process of understanding the connections between various aspects of the experience of the client – including wider social and cultural issues, which influence therapists as much as clients. We hope that the ideas within this chapter will spark the curiosity of our readers, and encourage a lively and responsive approach to therapy.\n",
      "\n"
     ]
    }
   ],
   "source": [
    "print(\"\"\"\n",
    "This chapter has presented a wide range of material, including some quite complex ideas from philosophy. Some of the discussion may seem to be a long way from the day-to-day\n",
    "reality of the therapist or the client. It is certainly not essential to have a fluent grasp of all of these ideas in order to understand the therapeutic work which is presented in the case studies which follow. However, the ability to remain open- minded, and to experiment with new approaches and ideas, is an essential feature of CBT. Furthermore, CBT formulation is a process of understanding the connections between various aspects of the experience of the client – including wider social and cultural issues, which influence therapists as much as clients. We hope that the ideas within this chapter will spark the curiosity of our readers, and encourage a lively and responsive approach to therapy.\n",
    "\"\"\")"
   ]
  },
  {
   "cell_type": "code",
   "execution_count": 4,
   "id": "8b7d2f20-74ad-47ea-8727-8ee545213379",
   "metadata": {},
   "outputs": [
    {
     "name": "stdout",
     "output_type": "stream",
     "text": [
      "Loading LLaMa tokenizer\n"
     ]
    },
    {
     "name": "stderr",
     "output_type": "stream",
     "text": [
      "The tokenizer class you load from this checkpoint is not the same type as the class this function is called from. It may result in unexpected tokenization. \n",
      "The tokenizer class you load from this checkpoint is 'LLaMATokenizer'. \n",
      "The class this function is called from is 'LlamaTokenizer'.\n"
     ]
    },
    {
     "name": "stdout",
     "output_type": "stream",
     "text": [
      "Loading LLaMa model\n"
     ]
    },
    {
     "data": {
      "application/vnd.jupyter.widget-view+json": {
       "model_id": "9a681cc77b0945f18fba7ccf709d5dfe",
       "version_major": 2,
       "version_minor": 0
      },
      "text/plain": [
       "Loading checkpoint shards:   0%|          | 0/41 [00:00<?, ?it/s]"
      ]
     },
     "metadata": {},
     "output_type": "display_data"
    }
   ],
   "source": [
    "# print(\"Loading transformer embeddings...\")\n",
    "# embeddings = HuggingFaceEmbeddings(model_name=\"sentence-transformers/all-mpnet-base-v2\")\n",
    "\n",
    "print(\"Loading LLaMa tokenizer\")\n",
    "tokenizer = LlamaTokenizer.from_pretrained(\"decapoda-research/llama-13b-hf\")\n",
    "\n",
    "print(\"Loading LLaMa model\")\n",
    "model1 = LlamaForCausalLM.from_pretrained(\"decapoda-research/llama-13b-hf\", load_in_8bit=True, device_map=\"auto\", torch_dtype=torch.float16)\n",
    "model2 = PeftModel.from_pretrained(model1, \"kmnis/ZenAI\", torch_dtype=torch.float16)"
   ]
  },
  {
   "cell_type": "code",
   "execution_count": 9,
   "id": "24a171b3-293e-4943-a17e-7e3f6f884f94",
   "metadata": {},
   "outputs": [],
   "source": [
    "model2 = PeftModel.from_pretrained(model1, \"../train/experiments2/\", torch_dtype=torch.float16)"
   ]
  },
  {
   "cell_type": "code",
   "execution_count": 10,
   "id": "eb013671-c4ce-4fbb-8354-e20aa3c16c6a",
   "metadata": {},
   "outputs": [],
   "source": [
    "model2.eval()\n",
    "model2 = torch.compile(model2)"
   ]
  },
  {
   "cell_type": "code",
   "execution_count": 11,
   "id": "c4024d2d-abda-4dc9-a4b4-62a772adb981",
   "metadata": {
    "tags": []
   },
   "outputs": [],
   "source": [
    "def get_results(question):\n",
    "    prompt = f\"\"\"This chapter has presented a wide range of material, including some quite complex ideas from philosophy. Some of the discussion may seem to be a long way from the day-to-day reality of the therapist or the client. It is certainly not essential to have a fluent grasp of all of these ideas in order to understand the therapeutic work which is presented in the case studies which follow. However, the ability to remain open- minded, and to experiment with new approaches and ideas, is an essential feature of CBT. Furthermore,\n",
    "\"\"\"\n",
    "    inputs = tokenizer(prompt, return_tensors=\"pt\")\n",
    "    input_ids = inputs[\"input_ids\"].cuda()\n",
    "\n",
    "    generation_config = GenerationConfig(temperature=0.6, top_p=0.95, repetition_penalty=1.15)\n",
    "\n",
    "    generation_output = model2.generate(input_ids=input_ids, generation_config=generation_config,\n",
    "                                       return_dict_in_generate=True, output_scores=False, max_new_tokens=600)\n",
    "\n",
    "    for out in generation_output.sequences:\n",
    "        out = tokenizer.decode(out)\n",
    "        # out = out.split(\"### Answer:\")[1].split(\"</s>\")[0].strip()\n",
    "        print(out + \"\\n\")"
   ]
  },
  {
   "cell_type": "code",
   "execution_count": 12,
   "id": "b2f79b1c-42a6-49f2-8c97-17bc5061b882",
   "metadata": {},
   "outputs": [
    {
     "name": "stdout",
     "output_type": "stream",
     "text": [
      " ⁇  This chapter has presented a wide range of material, including some quite complex ideas from philosophy. Some of the discussion may seem to be a long way from the day-to-day reality of the therapist or the client. It is certainly not essential to have a fluent grasp of all of these ideas in order to understand the therapeutic work which is presented in the case studies which follow. However, the ability to remain open- minded, and to experiment with new approaches and ideas, is an essential feature of CBT. Furthermore,\n",
      "CBT is a very practical approach, and it is important that practitioners are able to apply their knowledge to real life situations. The following chapters will present a number of different cases, each of which illustrates one aspect of CBT practice. These examples should help you to see how the theory can be applied in everyday clinical settings.\n",
      "10.2 Summary In this chapter we have looked at the nature of cognitive distortions and how they can affect our thinking about ourselves and others. We have also considered the role of automatic thoughts in maintaining depression and anxiety disorders. Finally, we have examined the relationship between cognitions and emotional responses.\n",
      "References Beck, A. T., Rush, A. J., Shaw, B. F., & Emery, G. (1979). Cognitive Therapy of Depression. New York: Guilford Press. Beck, A. T., Wright, F. D., Newman, M. G., & Liese, B. S. (1993). Anxiety Disorders and Phobias: A Cognitive Perspective. New York: Basic Books. Beck, A. T., Steer, R. A., Ball, R., Ranieri, W. F., & Beck, A. T. (1996). Comparison of Behavioral Treatments for Panic Disorder. Journal of Consulting and Clinical Psychology, 64(5), 849–855. Beck, A. T., Weissman, A., Lester, K., & Trexler, L. (1974). The measurement of pessimism: The Hopelessness Scale. Journal of Consulting and Clinical Psychology, 42, 861–865. Beck, A. T., Young, J. E., & Stoll, P. R. (1985). Cognitive Therapy of Suicide Attempters. American Journal of Psychiatry, 142, 1233–1238. Beck, A. T., Young, J. E., & Stewart, O. L. (1985). Depression: Causes and treatment. Philadelphia: University of Pennsylvania Press. Beck, A. T., & Alford, B. A. (1997). Cognitive Therapy of Personality Disorders. New York: Guilford Press. Beck, A. T., & Freeman, A. (1990). Cognitive Therapy of Substance Abuse. New York: Plenum Press. Beck, A. T., & Greenberg, R. L. (1984). Assessment\n",
      "\n"
     ]
    }
   ],
   "source": [
    "get_results(\"\")"
   ]
  },
  {
   "cell_type": "code",
   "execution_count": 18,
   "id": "c8078210-e60e-4649-b475-dfabef68be39",
   "metadata": {},
   "outputs": [
    {
     "name": "stdout",
     "output_type": "stream",
     "text": [
      " ⁇  This chapter has presented a wide range of material, including some quite complex ideas from philosophy. Some of the discussion may seem to be a long way from the day-to-day reality of the therapist or the client. It is certainly not essential to have a fluent grasp of all of these ideas in order to understand the therapeutic work which is presented in the case studies which follow. However, the ability to remain open- minded, and to experiment with new approaches and ideas, is an essential feature of CBT. Furthermore,\n",
      "the ability to reflect on one’s own practice, and to consider alternative ways of working, are also important features of good clinical practice (see Chapter 10). The next two chapters will present a series of case examples illustrating how different aspects of cognitive theory can be applied to help people overcome their problems. These case examples will illustrate many of the points made in this chapter, but they will also introduce you to some of the key concepts that underpin Cognitive Behavioural Therapy.\n",
      "Case study: David’s depression\n",
      "David was referred for treatment by his GP because he had been feeling very low for several weeks. He described himself as being ‘in a rut’, and said that he felt unable to get out of it. His wife had recently left him, and although he missed her terribly, he did not feel able to contact her again. He had lost interest in most things, and found it difficult even to go into work each morning. Although he still enjoyed playing football at weekends, he no longer looked forward to training sessions during the week. In fact, he often stayed away from training altogether, preferring instead to stay at home watching television. When asked about his sleeping pattern, David reported that he slept badly, waking up frequently throughout the night. He would then lie awake worrying about various things until dawn. On occasions when he managed to fall back to sleep, he would find himself dreaming vividly about his ex-wife, and would sometimes cry out loudly in his sleep. David told me that he had never suffered from any mental health problems before, and that he could not remember ever having experienced such intense feelings of sadness. He admitted that he had always been something of a worrier, but that he had never previously felt so overwhelmed by negative thoughts. I explained to David that we were going to try to identify what might be causing his current difficulties, and that we would then develop strategies together to help him deal more effectively with them. We agreed that our first task would be to explore whether there was anything in particular that seemed to be contributing to his current state of mind. I asked David if he thought that his recent breakup with his wife might be making him feel particularly down. He replied that he didn’t think so, explaining that he had already tried talking through his feelings with friends and family members, but that nothing seemed to make much difference. He added that he had also tried reading selfhelp books, but that none of them really helped either. I suggested that perhaps he should talk to someone who specialised in helping people cope with relationship breakdown. David agreed that this sounded like a sensible idea, and that he would give it some serious consideration. I then asked David if he thought that his job might be adding to his stress levels. Again, he responded negatively, saying that\n",
      "\n"
     ]
    }
   ],
   "source": [
    "question = \"\"\"\n",
    "Hey, I am Joe and am struggling with an eating disorder.\n",
    "\"\"\"\n",
    "get_results(question)"
   ]
  },
  {
   "cell_type": "code",
   "execution_count": null,
   "id": "db198b62-5d88-49e6-9e8d-af0ce0f615b1",
   "metadata": {},
   "outputs": [],
   "source": []
  },
  {
   "cell_type": "code",
   "execution_count": null,
   "id": "d58ba13c-d4aa-44f7-87f3-a382f86b0259",
   "metadata": {},
   "outputs": [],
   "source": []
  },
  {
   "cell_type": "code",
   "execution_count": null,
   "id": "298dd5ce-0f79-4feb-952a-662a922d5039",
   "metadata": {},
   "outputs": [],
   "source": []
  }
 ],
 "metadata": {
  "environment": {
   "kernel": "py310",
   "name": "common-cu110.m108",
   "type": "gcloud",
   "uri": "gcr.io/deeplearning-platform-release/base-cu110:m108"
  },
  "kernelspec": {
   "display_name": "Python (3.10)",
   "language": "python",
   "name": "py310"
  },
  "language_info": {
   "codemirror_mode": {
    "name": "ipython",
    "version": 3
   },
   "file_extension": ".py",
   "mimetype": "text/x-python",
   "name": "python",
   "nbconvert_exporter": "python",
   "pygments_lexer": "ipython3",
   "version": "3.10.11"
  }
 },
 "nbformat": 4,
 "nbformat_minor": 5
}
