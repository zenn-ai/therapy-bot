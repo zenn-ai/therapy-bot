{
 "cells": [
  {
   "cell_type": "code",
   "execution_count": 1,
   "id": "a09dbf39",
   "metadata": {},
   "outputs": [],
   "source": [
    "from datasets import load_dataset\n",
    "import pandas as pd\n",
    "pd.set_option('display.max_colwidth', None)"
   ]
  },
  {
   "cell_type": "markdown",
   "id": "732d94c3",
   "metadata": {},
   "source": [
    "**Mental Health Chatbot Dataset: https://huggingface.co/datasets/heliosbrahma/mental_health_chatbot_dataset**"
   ]
  },
  {
   "cell_type": "code",
   "execution_count": 2,
   "id": "755f0b15",
   "metadata": {},
   "outputs": [
    {
     "name": "stderr",
     "output_type": "stream",
     "text": [
      "Found cached dataset parquet (/Users/deepakvanjani/.cache/huggingface/datasets/heliosbrahma___parquet/heliosbrahma--mental_health_chatbot_dataset-55294e53c7a5aca1/0.0.0/2a3b91fbd88a2c90d1dbbb32b460cf621d31bd5b05b934492fdef7d8d6f236ec)\n"
     ]
    },
    {
     "data": {
      "application/vnd.jupyter.widget-view+json": {
       "model_id": "027979b928d549cc810b1c80f6dd953a",
       "version_major": 2,
       "version_minor": 0
      },
      "text/plain": [
       "  0%|          | 0/1 [00:00<?, ?it/s]"
      ]
     },
     "metadata": {},
     "output_type": "display_data"
    }
   ],
   "source": [
    "dataset = load_dataset(\"heliosbrahma/mental_health_chatbot_dataset\")\n",
    "df = pd.DataFrame(dataset['train']['text'])\n",
    "df.rename({0: 'Text'}, axis = 1, inplace = True)\n",
    "df[['human', 'zen']] = df['Text'].str.split('\\n<ASSISTANT>:', 1, expand=True)\n",
    "df['human'] = df['human'].str.replace('<HUMAN>: ', '', regex=False)\n",
    "df['zen'] = df['zen'].str.replace('<ASSISTANT>: ', '', regex=False)\n",
    "df.drop(columns=['Text'], inplace=True)\n",
    "df['source'] = 'HF/heliosbrahma/mental_health_chatbot_dataset/mental_health_chatbot_dataset'\n",
    "df.to_csv('mental_health_chatbot_dataset.csv')"
   ]
  },
  {
   "cell_type": "markdown",
   "id": "248fe9c1",
   "metadata": {},
   "source": [
    "**Psychology Dataset: https://huggingface.co/datasets/jkhedri/psychology-dataset**"
   ]
  },
  {
   "cell_type": "code",
   "execution_count": 32,
   "id": "6be1806a",
   "metadata": {},
   "outputs": [
    {
     "name": "stderr",
     "output_type": "stream",
     "text": [
      "Found cached dataset parquet (/Users/deepakvanjani/.cache/huggingface/datasets/jkhedri___parquet/jkhedri--psychology-dataset-2cd732f026dd7c06/0.0.0/2a3b91fbd88a2c90d1dbbb32b460cf621d31bd5b05b934492fdef7d8d6f236ec)\n"
     ]
    },
    {
     "data": {
      "application/vnd.jupyter.widget-view+json": {
       "model_id": "17125b905bc440eeb3cfd48b27b5dad1",
       "version_major": 2,
       "version_minor": 0
      },
      "text/plain": [
       "  0%|          | 0/1 [00:00<?, ?it/s]"
      ]
     },
     "metadata": {},
     "output_type": "display_data"
    }
   ],
   "source": [
    "dataset_name = \"jkhedri/psychology-dataset\"\n",
    "dataset = load_dataset(dataset_name)\n",
    "df = pd.DataFrame({'human': dataset['train']['question'], 'zen': dataset['train']['response_j']})\n",
    "df['source'] = 'HF/'+dataset_name\n",
    "df.to_csv(\"psychology-dataset.csv\")"
   ]
  },
  {
   "cell_type": "markdown",
   "id": "2cbfe263",
   "metadata": {},
   "source": [
    "**Counsel Chat Dataset**\n",
    "\n",
    "https://github.com/nbertagnolli/counsel-chat/blob/master/data/20200325_counsel_chat.csv\n",
    "https://huggingface.co/datasets/Amod/mental_health_counseling_conversations"
   ]
  },
  {
   "cell_type": "code",
   "execution_count": 33,
   "id": "4c6105f8",
   "metadata": {},
   "outputs": [
    {
     "name": "stderr",
     "output_type": "stream",
     "text": [
      "Found cached dataset json (/Users/deepakvanjani/.cache/huggingface/datasets/Amod___json/Amod--mental_health_counseling_conversations-735a19a232a07a0d/0.0.0/e347ab1c932092252e717ff3f949105a4dd28b27e842dd53157d2f72e276c2e4)\n"
     ]
    },
    {
     "data": {
      "application/vnd.jupyter.widget-view+json": {
       "model_id": "25215d26820d4f64a93efca0c10b088c",
       "version_major": 2,
       "version_minor": 0
      },
      "text/plain": [
       "  0%|          | 0/1 [00:00<?, ?it/s]"
      ]
     },
     "metadata": {},
     "output_type": "display_data"
    }
   ],
   "source": [
    "dataset_name = \"Amod/mental_health_counseling_conversations\"\n",
    "dataset = load_dataset(dataset_name)\n",
    "df = pd.DataFrame({'human': dataset['train']['Context'], 'zen': dataset['train']['Response']})\n",
    "df['source'] = 'HF/'+dataset_name\n",
    "df.to_csv(\"mental_health_counseling_conversations.csv\")"
   ]
  },
  {
   "cell_type": "markdown",
   "id": "fe50045b",
   "metadata": {},
   "source": [
    "**Pair Dataset - University of Michigan**\n",
    "\n",
    "https://lit.eecs.umich.edu/downloads.html#PAIR"
   ]
  },
  {
   "cell_type": "code",
   "execution_count": 40,
   "id": "12587c86",
   "metadata": {},
   "outputs": [
    {
     "name": "stderr",
     "output_type": "stream",
     "text": [
      "/var/folders/by/91zkqykd19b1dytsvy4g66j00000gn/T/ipykernel_32578/2771317812.py:4: SettingWithCopyWarning: \n",
      "A value is trying to be set on a copy of a slice from a DataFrame.\n",
      "Try using .loc[row_indexer,col_indexer] = value instead\n",
      "\n",
      "See the caveats in the documentation: https://pandas.pydata.org/pandas-docs/stable/user_guide/indexing.html#returning-a-view-versus-a-copy\n",
      "  df_hq1['source'] = 'University of Michigan Pair Dataset (HQ1)'\n",
      "/var/folders/by/91zkqykd19b1dytsvy4g66j00000gn/T/ipykernel_32578/2771317812.py:9: SettingWithCopyWarning: \n",
      "A value is trying to be set on a copy of a slice from a DataFrame.\n",
      "Try using .loc[row_indexer,col_indexer] = value instead\n",
      "\n",
      "See the caveats in the documentation: https://pandas.pydata.org/pandas-docs/stable/user_guide/indexing.html#returning-a-view-versus-a-copy\n",
      "  df_hq2['source'] = 'University of Michigan Pair Dataset (HQ2)'\n"
     ]
    }
   ],
   "source": [
    "df = pd.read_csv(\"pair_data.csv\")\n",
    "df_hq1 = df[['prompt', 'hq1']]\n",
    "df_hq1.columns = ['human', 'zen']\n",
    "df_hq1['source'] = 'University of Michigan Pair Dataset (HQ1)'\n",
    "df_hq1.to_csv(\"UMich_Pair_HQ1.csv\")\n",
    "\n",
    "df_hq2 = df[['prompt', 'hq2']]\n",
    "df_hq2.columns = ['human', 'zen']\n",
    "df_hq2['source'] = 'University of Michigan Pair Dataset (HQ2)'\n",
    "df_hq1.to_csv(\"UMich_Pair_HQ2.csv\")"
   ]
  },
  {
   "cell_type": "code",
   "execution_count": null,
   "id": "1fb25373",
   "metadata": {},
   "outputs": [],
   "source": []
  }
 ],
 "metadata": {
  "kernelspec": {
   "display_name": "Python 3 (ipykernel)",
   "language": "python",
   "name": "python3"
  },
  "language_info": {
   "codemirror_mode": {
    "name": "ipython",
    "version": 3
   },
   "file_extension": ".py",
   "mimetype": "text/x-python",
   "name": "python",
   "nbconvert_exporter": "python",
   "pygments_lexer": "ipython3",
   "version": "3.10.9"
  }
 },
 "nbformat": 4,
 "nbformat_minor": 5
}
